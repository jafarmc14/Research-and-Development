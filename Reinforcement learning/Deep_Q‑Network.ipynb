{
  "nbformat": 4,
  "nbformat_minor": 0,
  "metadata": {
    "colab": {
      "provenance": []
    },
    "kernelspec": {
      "name": "python3",
      "display_name": "Python 3"
    },
    "language_info": {
      "name": "python"
    }
  },
  "cells": [
    {
      "cell_type": "markdown",
      "source": [
        "Setup & installation"
      ],
      "metadata": {
        "id": "M487Xk3FZDU-"
      }
    },
    {
      "cell_type": "code",
      "execution_count": 1,
      "metadata": {
        "colab": {
          "base_uri": "https://localhost:8080/"
        },
        "id": "E44ReNRHW5yf",
        "outputId": "844b2048-37a3-4748-da8c-654d8a46a6ff"
      },
      "outputs": [
        {
          "output_type": "stream",
          "name": "stdout",
          "text": [
            "\u001b[2K   \u001b[90m━━━━━━━━━━━━━━━━━━━━━━━━━━━━━━━━━━━━━━━━\u001b[0m \u001b[32m363.4/363.4 MB\u001b[0m \u001b[31m4.4 MB/s\u001b[0m eta \u001b[36m0:00:00\u001b[0m\n",
            "\u001b[2K   \u001b[90m━━━━━━━━━━━━━━━━━━━━━━━━━━━━━━━━━━━━━━━━\u001b[0m \u001b[32m13.8/13.8 MB\u001b[0m \u001b[31m105.0 MB/s\u001b[0m eta \u001b[36m0:00:00\u001b[0m\n",
            "\u001b[2K   \u001b[90m━━━━━━━━━━━━━━━━━━━━━━━━━━━━━━━━━━━━━━━━\u001b[0m \u001b[32m24.6/24.6 MB\u001b[0m \u001b[31m82.2 MB/s\u001b[0m eta \u001b[36m0:00:00\u001b[0m\n",
            "\u001b[2K   \u001b[90m━━━━━━━━━━━━━━━━━━━━━━━━━━━━━━━━━━━━━━━━\u001b[0m \u001b[32m883.7/883.7 kB\u001b[0m \u001b[31m44.2 MB/s\u001b[0m eta \u001b[36m0:00:00\u001b[0m\n",
            "\u001b[2K   \u001b[90m━━━━━━━━━━━━━━━━━━━━━━━━━━━━━━━━━━━━━━━━\u001b[0m \u001b[32m664.8/664.8 MB\u001b[0m \u001b[31m2.9 MB/s\u001b[0m eta \u001b[36m0:00:00\u001b[0m\n",
            "\u001b[2K   \u001b[90m━━━━━━━━━━━━━━━━━━━━━━━━━━━━━━━━━━━━━━━━\u001b[0m \u001b[32m211.5/211.5 MB\u001b[0m \u001b[31m5.8 MB/s\u001b[0m eta \u001b[36m0:00:00\u001b[0m\n",
            "\u001b[2K   \u001b[90m━━━━━━━━━━━━━━━━━━━━━━━━━━━━━━━━━━━━━━━━\u001b[0m \u001b[32m56.3/56.3 MB\u001b[0m \u001b[31m12.3 MB/s\u001b[0m eta \u001b[36m0:00:00\u001b[0m\n",
            "\u001b[2K   \u001b[90m━━━━━━━━━━━━━━━━━━━━━━━━━━━━━━━━━━━━━━━━\u001b[0m \u001b[32m127.9/127.9 MB\u001b[0m \u001b[31m7.0 MB/s\u001b[0m eta \u001b[36m0:00:00\u001b[0m\n",
            "\u001b[2K   \u001b[90m━━━━━━━━━━━━━━━━━━━━━━━━━━━━━━━━━━━━━━━━\u001b[0m \u001b[32m207.5/207.5 MB\u001b[0m \u001b[31m6.5 MB/s\u001b[0m eta \u001b[36m0:00:00\u001b[0m\n",
            "\u001b[2K   \u001b[90m━━━━━━━━━━━━━━━━━━━━━━━━━━━━━━━━━━━━━━━━\u001b[0m \u001b[32m188.7/188.7 MB\u001b[0m \u001b[31m6.2 MB/s\u001b[0m eta \u001b[36m0:00:00\u001b[0m\n",
            "\u001b[2K   \u001b[90m━━━━━━━━━━━━━━━━━━━━━━━━━━━━━━━━━━━━━━━━\u001b[0m \u001b[32m21.1/21.1 MB\u001b[0m \u001b[31m82.3 MB/s\u001b[0m eta \u001b[36m0:00:00\u001b[0m\n",
            "\u001b[?25h"
          ]
        }
      ],
      "source": [
        "!pip install -q gymnasium[classic-control] torch matplotlib numpy"
      ]
    },
    {
      "cell_type": "markdown",
      "source": [
        "Import & configuration"
      ],
      "metadata": {
        "id": "XullJYjrZF6d"
      }
    },
    {
      "cell_type": "code",
      "source": [
        "import math, random\n",
        "from collections import deque\n",
        "\n",
        "import gymnasium as gym\n",
        "import numpy as np\n",
        "import torch\n",
        "import torch.nn as nn\n",
        "import torch.optim as optim\n",
        "import matplotlib.pyplot as plt\n",
        "\n",
        "SEED = 42\n",
        "random.seed(SEED); np.random.seed(SEED); torch.manual_seed(SEED)\n",
        "device = torch.device(\"cuda\" if torch.cuda.is_available() else \"cpu\")\n",
        "print(\"Device:\", device)\n"
      ],
      "metadata": {
        "colab": {
          "base_uri": "https://localhost:8080/"
        },
        "id": "nNBa6d36XcrI",
        "outputId": "2ffc5b1b-d230-47f1-fb00-d8e710891b89"
      },
      "execution_count": 2,
      "outputs": [
        {
          "output_type": "stream",
          "name": "stdout",
          "text": [
            "Device: cpu\n"
          ]
        }
      ]
    },
    {
      "cell_type": "markdown",
      "source": [
        "Replay Buffer"
      ],
      "metadata": {
        "id": "8dR_mDkOZTSZ"
      }
    },
    {
      "cell_type": "code",
      "source": [
        "class ReplayBuffer:\n",
        "    def __init__(self, capacity: int):\n",
        "        self.buffer = deque(maxlen=capacity)\n",
        "    def __len__(self):\n",
        "        return len(self.buffer)\n",
        "    def push(self, state, action, reward, next_state, done):\n",
        "        self.buffer.append((state, action, reward, next_state, done))\n",
        "    def sample(self, batch_size: int):\n",
        "        batch = random.sample(self.buffer, batch_size)\n",
        "        state, action, reward, next_state, done = map(np.array, zip(*batch))\n",
        "        import torch\n",
        "        return (\n",
        "            torch.tensor(state, dtype=torch.float32, device=device),\n",
        "            torch.tensor(action, dtype=torch.int64, device=device).unsqueeze(-1),\n",
        "            torch.tensor(reward, dtype=torch.float32, device=device).unsqueeze(-1),\n",
        "            torch.tensor(next_state, dtype=torch.float32, device=device),\n",
        "            torch.tensor(done, dtype=torch.float32, device=device).unsqueeze(-1),\n",
        "        )\n"
      ],
      "metadata": {
        "id": "L9nTlZVaXwvr"
      },
      "execution_count": 3,
      "outputs": []
    },
    {
      "cell_type": "markdown",
      "source": [
        "Q‑Network (PyTorch)"
      ],
      "metadata": {
        "id": "40WPdbPcZUcm"
      }
    },
    {
      "cell_type": "code",
      "source": [
        "class QNetwork(nn.Module):\n",
        "    def __init__(self, state_dim, action_dim, hidden=128):\n",
        "        super().__init__()\n",
        "        self.net = nn.Sequential(\n",
        "            nn.Linear(state_dim, hidden), nn.ReLU(),\n",
        "            nn.Linear(hidden, hidden), nn.ReLU(),\n",
        "            nn.Linear(hidden, action_dim),\n",
        "        )\n",
        "    def forward(self, x):\n",
        "        return self.net(x)\n"
      ],
      "metadata": {
        "id": "TtZ-V7E0Xyr0"
      },
      "execution_count": 4,
      "outputs": []
    },
    {
      "cell_type": "markdown",
      "source": [
        "Agent DQN (epsilon‑greedy + target network)"
      ],
      "metadata": {
        "id": "FpHhVi58ZYVy"
      }
    },
    {
      "cell_type": "code",
      "source": [
        "class DQNAgent:\n",
        "    def __init__(self, state_dim, action_dim, gamma=0.99, lr=1e-3,\n",
        "                 epsilon_start=1.0, epsilon_end=0.05, epsilon_decay=50000):\n",
        "        self.gamma = gamma\n",
        "        self.epsilon_start = epsilon_start\n",
        "        self.epsilon_end = epsilon_end\n",
        "        self.epsilon_decay = epsilon_decay  # dalam total langkah (steps)\n",
        "        self.total_steps = 0\n",
        "\n",
        "        self.q = QNetwork(state_dim, action_dim).to(device)\n",
        "        self.q_target = QNetwork(state_dim, action_dim).to(device)\n",
        "        self.q_target.load_state_dict(self.q.state_dict())\n",
        "\n",
        "        self.optim = optim.Adam(self.q.parameters(), lr=lr)\n",
        "        self.loss_fn = nn.MSELoss()\n",
        "        self.action_dim = action_dim\n",
        "\n",
        "    def epsilon(self):\n",
        "        # linear-ish decay\n",
        "        eps = self.epsilon_end + (self.epsilon_start - self.epsilon_end) * max(\n",
        "            0.0, (self.epsilon_decay - self.total_steps)/self.epsilon_decay\n",
        "        )\n",
        "        return float(eps)\n",
        "\n",
        "    def select_action(self, state):\n",
        "        if random.random() < self.epsilon():\n",
        "            return random.randrange(self.action_dim)\n",
        "        with torch.no_grad():\n",
        "            s = torch.tensor(state, dtype=torch.float32, device=device).unsqueeze(0)\n",
        "            return int(torch.argmax(self.q(s), dim=1).item())\n",
        "\n",
        "    def train_step(self, batch, gamma, tau=0.005):\n",
        "        states, actions, rewards, next_states, dones = batch\n",
        "        q_values = self.q(states).gather(1, actions)\n",
        "        with torch.no_grad():\n",
        "            max_next_q = self.q_target(next_states).max(1, keepdim=True)[0]\n",
        "            targets = rewards + gamma * max_next_q * (1.0 - dones)\n",
        "        loss = self.loss_fn(q_values, targets)\n",
        "        self.optim.zero_grad(); loss.backward(); self.optim.step()\n",
        "\n",
        "        # soft update target\n",
        "        for tp, p in zip(self.q_target.parameters(), self.q.parameters()):\n",
        "            tp.data.copy_(tau * p.data + (1.0 - tau) * tp.data)\n",
        "        return loss.item()\n"
      ],
      "metadata": {
        "id": "BBU4gGSBX0fr"
      },
      "execution_count": 5,
      "outputs": []
    },
    {
      "cell_type": "markdown",
      "source": [
        "Environment & hyperparameter"
      ],
      "metadata": {
        "id": "pwufHYIRZhNb"
      }
    },
    {
      "cell_type": "code",
      "source": [
        "env = gym.make(\"CartPole-v1\")\n",
        "state_dim = env.observation_space.shape[0]   # 4\n",
        "action_dim = env.action_space.n              # 2\n",
        "\n",
        "agent = DQNAgent(\n",
        "    state_dim=state_dim, action_dim=action_dim,\n",
        "    gamma=0.99, lr=1e-3,\n",
        "    epsilon_start=1.0, epsilon_end=0.05, epsilon_decay=50_000\n",
        ")\n",
        "\n",
        "buffer = ReplayBuffer(capacity=100_000)\n",
        "BATCH_SIZE = 64\n",
        "TRAIN_START = 1_000\n",
        "MAX_EPISODES = 500\n",
        "MAX_STEPS_PER_EP = 1000\n",
        "SOFT_TAU = 0.005\n",
        "\n",
        "reward_history, loss_history = [], []\n"
      ],
      "metadata": {
        "id": "OJbrokb2X29F"
      },
      "execution_count": 6,
      "outputs": []
    },
    {
      "cell_type": "markdown",
      "source": [
        "Training loop + plot"
      ],
      "metadata": {
        "id": "O7sNI_pgZj0q"
      }
    },
    {
      "cell_type": "code",
      "source": [
        "best_avg_reward = -float('inf')\n",
        "global_step = 0\n",
        "\n",
        "for ep in range(1, MAX_EPISODES + 1):\n",
        "    state, info = env.reset(seed=SEED + ep)\n",
        "    ep_reward = 0.0\n",
        "\n",
        "    for t in range(MAX_STEPS_PER_EP):\n",
        "        action = agent.select_action(state)\n",
        "        next_state, reward, terminated, truncated, info = env.step(action)\n",
        "        done = terminated or truncated\n",
        "\n",
        "        buffer.push(state, action, reward, next_state, done)\n",
        "        state = next_state\n",
        "        ep_reward += reward\n",
        "        agent.total_steps += 1\n",
        "        global_step += 1\n",
        "\n",
        "        if len(buffer) >= TRAIN_START:\n",
        "            batch = buffer.sample(BATCH_SIZE)\n",
        "            loss = agent.train_step(batch, gamma=agent.gamma, tau=SOFT_TAU)\n",
        "            loss_history.append(loss)\n",
        "\n",
        "        if done:\n",
        "            break\n",
        "\n",
        "    reward_history.append(ep_reward)\n",
        "    if ep % 10 == 0:\n",
        "        last10 = reward_history[-10:]\n",
        "        avg10 = sum(last10)/len(last10)\n",
        "        best_avg_reward = max(best_avg_reward, avg10)\n",
        "        print(f\"Episode {ep:4d} | AvgReward(10)={avg10:7.2f} | Epsilon={agent.epsilon():.3f} | Buffer={len(buffer)}\")\n",
        "\n",
        "# Plot total reward per episode\n",
        "plt.figure(figsize=(6,4))\n",
        "plt.plot(reward_history)\n",
        "plt.xlabel(\"Episode\"); plt.ylabel(\"Total Reward\"); plt.title(\"Training Progress — DQN on CartPole-v1\")\n",
        "plt.show()\n"
      ],
      "metadata": {
        "colab": {
          "base_uri": "https://localhost:8080/",
          "height": 1000
        },
        "id": "hhc7JEj1X65x",
        "outputId": "a8820701-30a1-4ec1-9dc0-c5f39fc56d0d"
      },
      "execution_count": 7,
      "outputs": [
        {
          "output_type": "stream",
          "name": "stdout",
          "text": [
            "Episode   10 | AvgReward(10)=  17.20 | Epsilon=0.997 | Buffer=172\n",
            "Episode   20 | AvgReward(10)=  21.90 | Epsilon=0.993 | Buffer=391\n",
            "Episode   30 | AvgReward(10)=  15.30 | Epsilon=0.990 | Buffer=544\n",
            "Episode   40 | AvgReward(10)=  26.60 | Epsilon=0.985 | Buffer=810\n",
            "Episode   50 | AvgReward(10)=  26.90 | Epsilon=0.979 | Buffer=1079\n",
            "Episode   60 | AvgReward(10)=  19.50 | Epsilon=0.976 | Buffer=1274\n",
            "Episode   70 | AvgReward(10)=  21.30 | Epsilon=0.972 | Buffer=1487\n",
            "Episode   80 | AvgReward(10)=  24.50 | Epsilon=0.967 | Buffer=1732\n",
            "Episode   90 | AvgReward(10)=  19.80 | Epsilon=0.963 | Buffer=1930\n",
            "Episode  100 | AvgReward(10)=  23.10 | Epsilon=0.959 | Buffer=2161\n",
            "Episode  110 | AvgReward(10)=  21.00 | Epsilon=0.955 | Buffer=2371\n",
            "Episode  120 | AvgReward(10)=  25.70 | Epsilon=0.950 | Buffer=2628\n",
            "Episode  130 | AvgReward(10)=  28.60 | Epsilon=0.945 | Buffer=2914\n",
            "Episode  140 | AvgReward(10)=  28.10 | Epsilon=0.939 | Buffer=3195\n",
            "Episode  150 | AvgReward(10)=  29.70 | Epsilon=0.934 | Buffer=3492\n",
            "Episode  160 | AvgReward(10)=  20.70 | Epsilon=0.930 | Buffer=3699\n",
            "Episode  170 | AvgReward(10)=  22.60 | Epsilon=0.925 | Buffer=3925\n",
            "Episode  180 | AvgReward(10)=  30.60 | Epsilon=0.920 | Buffer=4231\n",
            "Episode  190 | AvgReward(10)=  32.30 | Epsilon=0.913 | Buffer=4554\n",
            "Episode  200 | AvgReward(10)=  29.10 | Epsilon=0.908 | Buffer=4845\n",
            "Episode  210 | AvgReward(10)=  17.20 | Epsilon=0.905 | Buffer=5017\n",
            "Episode  220 | AvgReward(10)=  27.10 | Epsilon=0.900 | Buffer=5288\n",
            "Episode  230 | AvgReward(10)=  23.00 | Epsilon=0.895 | Buffer=5518\n",
            "Episode  240 | AvgReward(10)=  20.70 | Epsilon=0.891 | Buffer=5725\n",
            "Episode  250 | AvgReward(10)=  31.90 | Epsilon=0.885 | Buffer=6044\n",
            "Episode  260 | AvgReward(10)=  25.90 | Epsilon=0.880 | Buffer=6303\n",
            "Episode  270 | AvgReward(10)=  27.10 | Epsilon=0.875 | Buffer=6574\n",
            "Episode  280 | AvgReward(10)=  20.70 | Epsilon=0.871 | Buffer=6781\n",
            "Episode  290 | AvgReward(10)=  26.60 | Epsilon=0.866 | Buffer=7047\n",
            "Episode  300 | AvgReward(10)=  20.20 | Epsilon=0.862 | Buffer=7249\n",
            "Episode  310 | AvgReward(10)=  27.50 | Epsilon=0.857 | Buffer=7524\n",
            "Episode  320 | AvgReward(10)=  20.90 | Epsilon=0.853 | Buffer=7733\n",
            "Episode  330 | AvgReward(10)=  24.60 | Epsilon=0.848 | Buffer=7979\n",
            "Episode  340 | AvgReward(10)=  32.10 | Epsilon=0.842 | Buffer=8300\n",
            "Episode  350 | AvgReward(10)=  28.80 | Epsilon=0.837 | Buffer=8588\n",
            "Episode  360 | AvgReward(10)=  22.40 | Epsilon=0.833 | Buffer=8812\n",
            "Episode  370 | AvgReward(10)=  20.60 | Epsilon=0.829 | Buffer=9018\n",
            "Episode  380 | AvgReward(10)=  19.60 | Epsilon=0.825 | Buffer=9214\n",
            "Episode  390 | AvgReward(10)=  27.60 | Epsilon=0.820 | Buffer=9490\n",
            "Episode  400 | AvgReward(10)=  28.00 | Epsilon=0.814 | Buffer=9770\n",
            "Episode  410 | AvgReward(10)=  23.50 | Epsilon=0.810 | Buffer=10005\n",
            "Episode  420 | AvgReward(10)=  38.50 | Epsilon=0.803 | Buffer=10390\n",
            "Episode  430 | AvgReward(10)=  33.80 | Epsilon=0.796 | Buffer=10728\n",
            "Episode  440 | AvgReward(10)=  25.70 | Epsilon=0.791 | Buffer=10985\n",
            "Episode  450 | AvgReward(10)=  20.50 | Epsilon=0.787 | Buffer=11190\n",
            "Episode  460 | AvgReward(10)=  27.20 | Epsilon=0.782 | Buffer=11462\n",
            "Episode  470 | AvgReward(10)=  23.70 | Epsilon=0.778 | Buffer=11699\n",
            "Episode  480 | AvgReward(10)=  19.40 | Epsilon=0.774 | Buffer=11893\n",
            "Episode  490 | AvgReward(10)=  31.30 | Epsilon=0.768 | Buffer=12206\n",
            "Episode  500 | AvgReward(10)=  18.70 | Epsilon=0.765 | Buffer=12393\n"
          ]
        },
        {
          "output_type": "display_data",
          "data": {
            "text/plain": [
              "<Figure size 600x400 with 1 Axes>"
            ],
            "image/png": "[encoded data removed]"
          },
          "metadata": {}
        }
      ]
    },
    {
      "cell_type": "markdown",
      "source": [
        "Evaluation"
      ],
      "metadata": {
        "id": "BYdqTNhAZnxo"
      }
    },
    {
      "cell_type": "code",
      "source": [
        "def evaluate(env, agent, episodes=10):\n",
        "    scores = []\n",
        "    for ep in range(episodes):\n",
        "        state, info = env.reset(seed=SEED + 1000 + ep)\n",
        "        total = 0.0; done = False\n",
        "        while not done:\n",
        "            with torch.no_grad():\n",
        "                s = torch.tensor(state, dtype=torch.float32, device=device).unsqueeze(0)\n",
        "                action = int(torch.argmax(agent.q(s), dim=1).item())\n",
        "            state, reward, terminated, truncated, info = env.step(action)\n",
        "            total += reward\n",
        "            done = terminated or truncated\n",
        "        scores.append(total)\n",
        "    import numpy as np\n",
        "    return float(np.mean(scores)), float(np.std(scores))\n",
        "\n",
        "avg, std = evaluate(env, agent, episodes=10)\n",
        "print(f\"Average reward over 10 eval episodes: {avg:.2f} ± {std:.2f}\")\n"
      ],
      "metadata": {
        "colab": {
          "base_uri": "https://localhost:8080/"
        },
        "id": "4cYk9bPhYGxm",
        "outputId": "5c308762-1739-4517-df1f-5d7f6d567654"
      },
      "execution_count": 8,
      "outputs": [
        {
          "output_type": "stream",
          "name": "stdout",
          "text": [
            "Average reward over 10 eval episodes: 106.90 ± 3.94\n"
          ]
        }
      ]
    },
    {
      "cell_type": "markdown",
      "source": [
        "Saving model"
      ],
      "metadata": {
        "id": "yDDDHEUFZp8-"
      }
    },
    {
      "cell_type": "code",
      "source": [
        "MODEL_PATH = \"dqn_cartpole.pt\"\n",
        "torch.save(agent.q.state_dict(), MODEL_PATH)\n",
        "print(\"Model disimpan ke:\", MODEL_PATH)\n"
      ],
      "metadata": {
        "colab": {
          "base_uri": "https://localhost:8080/"
        },
        "id": "FAyeyaUhYJmv",
        "outputId": "001b8ecf-137a-472d-be9f-2af5acbe5dbc"
      },
      "execution_count": 9,
      "outputs": [
        {
          "output_type": "stream",
          "name": "stdout",
          "text": [
            "Model disimpan ke: dqn_cartpole.pt\n"
          ]
        }
      ]
    },
    {
      "cell_type": "markdown",
      "source": [
        "Inference & demo play (deterministic)"
      ],
      "metadata": {
        "id": "NBBieiI6bEnM"
      }
    },
    {
      "cell_type": "code",
      "source": [
        "# !pip install -q gymnasium[classic-control] torch numpy matplotlib  # jalankan jika belum terpasang\n",
        "\n",
        "import gymnasium as gym\n",
        "import numpy as np\n",
        "import torch\n",
        "import torch.nn as nn\n",
        "\n",
        "DEVICE = torch.device(\"cuda\" if torch.cuda.is_available() else \"cpu\")\n",
        "MODEL_PATH = \"dqn_cartpole.pt\"   # ganti jika path beda\n",
        "SEED = 42\n",
        "\n",
        "# --- Q-Network (harus sama arsitekturnya dengan saat training) ---\n",
        "class QNetwork(nn.Module):\n",
        "    def __init__(self, state_dim, action_dim, hidden=128):\n",
        "        super().__init__()\n",
        "        self.net = nn.Sequential(\n",
        "            nn.Linear(state_dim, hidden), nn.ReLU(),\n",
        "            nn.Linear(hidden, hidden), nn.ReLU(),\n",
        "            nn.Linear(hidden, action_dim),\n",
        "        )\n",
        "    def forward(self, x):\n",
        "        return self.net(x)\n",
        "\n",
        "# --- Load env & model ---\n",
        "env = gym.make(\"CartPole-v1\")\n",
        "state_dim = env.observation_space.shape[0]  # 4\n",
        "action_dim = env.action_space.n             # 2\n",
        "\n",
        "q = QNetwork(state_dim, action_dim).to(DEVICE)\n",
        "state_dict = torch.load(MODEL_PATH, map_location=DEVICE)\n",
        "q.load_state_dict(state_dict)\n",
        "q.eval()\n",
        "\n",
        "# --- Helper: pilih aksi secara greedy (tanpa eksplorasi) ---\n",
        "@torch.no_grad()\n",
        "def select_action(state_np):\n",
        "    s = torch.tensor(state_np, dtype=torch.float32, device=DEVICE).unsqueeze(0)\n",
        "    q_vals = q(s)\n",
        "    return int(torch.argmax(q_vals, dim=1).item())\n",
        "\n",
        "# --- Main demo: jalankan beberapa episode dan cetak skor ---\n",
        "def play(n_episodes=5, max_steps=1000):\n",
        "    scores = []\n",
        "    for ep in range(n_episodes):\n",
        "        state, info = env.reset(seed=SEED + ep)\n",
        "        total = 0.0\n",
        "        for t in range(max_steps):\n",
        "            action = select_action(state)\n",
        "            state, reward, terminated, truncated, info = env.step(action)\n",
        "            total += reward\n",
        "            if terminated or truncated:\n",
        "                break\n",
        "        scores.append(total)\n",
        "        print(f\"Episode {ep+1}/{n_episodes} — Score: {total:.0f}\")\n",
        "    print(f\"Rata-rata skor: {np.mean(scores):.2f} ± {np.std(scores):.2f}\")\n",
        "    return scores\n",
        "\n",
        "scores = play(n_episodes=10)\n"
      ],
      "metadata": {
        "colab": {
          "base_uri": "https://localhost:8080/"
        },
        "id": "CIILFgkKaaRg",
        "outputId": "22a0b488-5baa-412e-cc1e-c722af0c9f5a"
      },
      "execution_count": 10,
      "outputs": [
        {
          "output_type": "stream",
          "name": "stdout",
          "text": [
            "Episode 1/10 — Score: 111\n",
            "Episode 2/10 — Score: 100\n",
            "Episode 3/10 — Score: 107\n",
            "Episode 4/10 — Score: 112\n",
            "Episode 5/10 — Score: 102\n",
            "Episode 6/10 — Score: 106\n",
            "Episode 7/10 — Score: 108\n",
            "Episode 8/10 — Score: 104\n",
            "Episode 9/10 — Score: 112\n",
            "Episode 10/10 — Score: 102\n",
            "Rata-rata skor: 106.40 ± 4.15\n"
          ]
        }
      ]
    },
    {
      "cell_type": "markdown",
      "source": [
        "Save MP4 video of one episode"
      ],
      "metadata": {
        "id": "oLYbdhljbGSg"
      }
    },
    {
      "cell_type": "code",
      "source": [
        "# !pip install -q gymnasium[classic-control] imageio imageio-ffmpeg\n",
        "\n",
        "import os, shutil\n",
        "from gymnasium.wrappers import RecordVideo\n",
        "\n",
        "# Bersihkan folder video lama (opsional)\n",
        "if os.path.exists(\"videos\"):\n",
        "    shutil.rmtree(\"videos\")\n",
        "\n",
        "venv = RecordVideo(\n",
        "    gym.make(\"CartPole-v1\", render_mode=\"rgb_array\"),\n",
        "    video_folder=\"videos\",\n",
        "    episode_trigger=lambda e: True  # rekam semua episode\n",
        ")\n",
        "\n",
        "state, info = venv.reset(seed=SEED + 999)\n",
        "done = False\n",
        "total = 0.0\n",
        "while not done:\n",
        "    action = select_action(state)\n",
        "    state, reward, terminated, truncated, info = venv.step(action)\n",
        "    total += reward\n",
        "    done = terminated or truncated\n",
        "venv.close()\n",
        "print(\"Selesai merekam. Cari file .mp4 di folder 'videos'.\")\n",
        "\n",
        "# (Di Colab) tampilkan video\n",
        "try:\n",
        "    import glob\n",
        "    from IPython.display import HTML\n",
        "    mp4s = sorted(glob.glob(\"videos/*.mp4\"))\n",
        "    print(\"Video:\", mp4s[-1] if mp4s else \"tidak ditemukan\")\n",
        "    if mp4s:\n",
        "        HTML(f\"\"\"\n",
        "        <video width=\"480\" controls>\n",
        "            <source src=\"{mp4s[-1]}\" type=\"video/mp4\">\n",
        "        </video>\n",
        "        \"\"\")\n",
        "except Exception as e:\n",
        "    print(\"Preview video opsional:\", e)\n"
      ],
      "metadata": {
        "colab": {
          "base_uri": "https://localhost:8080/"
        },
        "id": "x6va5J1BaeLP",
        "outputId": "6ad93e64-a633-4edc-e65e-611dcb34e212"
      },
      "execution_count": 11,
      "outputs": [
        {
          "output_type": "stream",
          "name": "stdout",
          "text": [
            "Selesai merekam. Cari file .mp4 di folder 'videos'.\n",
            "Video: videos/rl-video-episode-0.mp4\n"
          ]
        }
      ]
    }
  ]
}