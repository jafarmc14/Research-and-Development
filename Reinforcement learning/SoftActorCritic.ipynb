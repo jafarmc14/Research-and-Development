{
  "nbformat": 4,
  "nbformat_minor": 0,
  "metadata": {
    "colab": {
      "provenance": [],
      "gpuType": "T4"
    },
    "kernelspec": {
      "name": "python3",
      "display_name": "Python 3"
    },
    "language_info": {
      "name": "python"
    },
    "accelerator": "GPU"
  },
  "cells": [
    {
      "cell_type": "code",
      "execution_count": 1,
      "metadata": {
        "colab": {
          "base_uri": "https://localhost:8080/"
        },
        "id": "JZhqsX8r8c9D",
        "outputId": "945295b2-c865-4ac8-e324-31b8b9c325ed"
      },
      "outputs": [
        {
          "output_type": "stream",
          "name": "stdout",
          "text": [
            "\u001b[2K   \u001b[90m━━━━━━━━━━━━━━━━━━━━━━━━━━━━━━━━━━━━━━━━\u001b[0m \u001b[32m363.4/363.4 MB\u001b[0m \u001b[31m4.0 MB/s\u001b[0m eta \u001b[36m0:00:00\u001b[0m\n",
            "\u001b[2K   \u001b[90m━━━━━━━━━━━━━━━━━━━━━━━━━━━━━━━━━━━━━━━━\u001b[0m \u001b[32m13.8/13.8 MB\u001b[0m \u001b[31m123.0 MB/s\u001b[0m eta \u001b[36m0:00:00\u001b[0m\n",
            "\u001b[2K   \u001b[90m━━━━━━━━━━━━━━━━━━━━━━━━━━━━━━━━━━━━━━━━\u001b[0m \u001b[32m24.6/24.6 MB\u001b[0m \u001b[31m96.3 MB/s\u001b[0m eta \u001b[36m0:00:00\u001b[0m\n",
            "\u001b[2K   \u001b[90m━━━━━━━━━━━━━━━━━━━━━━━━━━━━━━━━━━━━━━━━\u001b[0m \u001b[32m883.7/883.7 kB\u001b[0m \u001b[31m43.7 MB/s\u001b[0m eta \u001b[36m0:00:00\u001b[0m\n",
            "\u001b[2K   \u001b[90m━━━━━━━━━━━━━━━━━━━━━━━━━━━━━━━━━━━━━━━━\u001b[0m \u001b[32m664.8/664.8 MB\u001b[0m \u001b[31m2.3 MB/s\u001b[0m eta \u001b[36m0:00:00\u001b[0m\n",
            "\u001b[2K   \u001b[90m━━━━━━━━━━━━━━━━━━━━━━━━━━━━━━━━━━━━━━━━\u001b[0m \u001b[32m211.5/211.5 MB\u001b[0m \u001b[31m5.3 MB/s\u001b[0m eta \u001b[36m0:00:00\u001b[0m\n",
            "\u001b[2K   \u001b[90m━━━━━━━━━━━━━━━━━━━━━━━━━━━━━━━━━━━━━━━━\u001b[0m \u001b[32m56.3/56.3 MB\u001b[0m \u001b[31m16.9 MB/s\u001b[0m eta \u001b[36m0:00:00\u001b[0m\n",
            "\u001b[2K   \u001b[90m━━━━━━━━━━━━━━━━━━━━━━━━━━━━━━━━━━━━━━━━\u001b[0m \u001b[32m127.9/127.9 MB\u001b[0m \u001b[31m7.5 MB/s\u001b[0m eta \u001b[36m0:00:00\u001b[0m\n",
            "\u001b[2K   \u001b[90m━━━━━━━━━━━━━━━━━━━━━━━━━━━━━━━━━━━━━━━━\u001b[0m \u001b[32m207.5/207.5 MB\u001b[0m \u001b[31m5.5 MB/s\u001b[0m eta \u001b[36m0:00:00\u001b[0m\n",
            "\u001b[2K   \u001b[90m━━━━━━━━━━━━━━━━━━━━━━━━━━━━━━━━━━━━━━━━\u001b[0m \u001b[32m188.7/188.7 MB\u001b[0m \u001b[31m5.9 MB/s\u001b[0m eta \u001b[36m0:00:00\u001b[0m\n",
            "\u001b[2K   \u001b[90m━━━━━━━━━━━━━━━━━━━━━━━━━━━━━━━━━━━━━━━━\u001b[0m \u001b[32m21.1/21.1 MB\u001b[0m \u001b[31m97.9 MB/s\u001b[0m eta \u001b[36m0:00:00\u001b[0m\n",
            "\u001b[?25h"
          ]
        }
      ],
      "source": [
        "!pip install -q gymnasium[classic-control] torch numpy matplotlib\n"
      ]
    },
    {
      "cell_type": "code",
      "source": [
        "import random, math, os\n",
        "from collections import deque\n",
        "import numpy as np\n",
        "import torch\n",
        "import torch.nn as nn\n",
        "import torch.optim as optim\n",
        "from torch.distributions import Normal\n",
        "import gymnasium as gym\n",
        "import matplotlib.pyplot as plt\n",
        "\n",
        "SEED = 42\n",
        "random.seed(SEED); np.random.seed(SEED); torch.manual_seed(SEED)\n",
        "device = torch.device(\"cuda\" if torch.cuda.is_available() else \"cpu\")\n",
        "print(\"Device:\", device)\n"
      ],
      "metadata": {
        "colab": {
          "base_uri": "https://localhost:8080/"
        },
        "id": "mLthMM1M8_cv",
        "outputId": "c7735534-8f43-43a1-c9e6-6203dd8aea9a"
      },
      "execution_count": 2,
      "outputs": [
        {
          "output_type": "stream",
          "name": "stdout",
          "text": [
            "Device: cuda\n"
          ]
        }
      ]
    },
    {
      "cell_type": "code",
      "source": [
        "env = gym.make(\"Pendulum-v1\")\n",
        "env.reset(seed=SEED)\n",
        "\n",
        "state_dim = env.observation_space.shape[0]       # 3\n",
        "action_dim = env.action_space.shape[0]           # 1\n",
        "act_low  = torch.tensor(env.action_space.low,  device=device, dtype=torch.float32)\n",
        "act_high = torch.tensor(env.action_space.high, device=device, dtype=torch.float32)\n",
        "action_scale = (act_high - act_low) / 2.0        # typically 2.0\n",
        "action_bias  = (act_high + act_low) / 2.0        # typically 0.0\n",
        "log_action_scale_sum = torch.log(action_scale).sum().item()\n"
      ],
      "metadata": {
        "id": "OSov2ZCM9a2o"
      },
      "execution_count": 8,
      "outputs": []
    },
    {
      "cell_type": "code",
      "source": [
        "class ReplayBuffer:\n",
        "    def __init__(self, capacity=1_000_000):\n",
        "        self.capacity = capacity\n",
        "        self.buffer = deque(maxlen=capacity)\n",
        "    def __len__(self):\n",
        "        return len(self.buffer)\n",
        "    def push(self, s, a, r, ns, d):\n",
        "        self.buffer.append((s, a, r, ns, d))\n",
        "    def sample(self, batch_size):\n",
        "        batch = random.sample(self.buffer, batch_size)\n",
        "        s, a, r, ns, d = map(np.array, zip(*batch))\n",
        "        return (\n",
        "            torch.tensor(s,  dtype=torch.float32, device=device),\n",
        "            torch.tensor(a,  dtype=torch.float32, device=device),\n",
        "            torch.tensor(r,  dtype=torch.float32, device=device).unsqueeze(-1),\n",
        "            torch.tensor(ns, dtype=torch.float32, device=device),\n",
        "            torch.tensor(d,  dtype=torch.float32, device=device).unsqueeze(-1),\n",
        "        )\n"
      ],
      "metadata": {
        "id": "3YwMoBo-9CuW"
      },
      "execution_count": 9,
      "outputs": []
    },
    {
      "cell_type": "code",
      "source": [
        "def mlp(in_dim, out_dim, hidden=256):\n",
        "    return nn.Sequential(\n",
        "        nn.Linear(in_dim, hidden), nn.ReLU(),\n",
        "        nn.Linear(hidden, hidden), nn.ReLU(),\n",
        "        nn.Linear(hidden, out_dim),\n",
        "    )\n",
        "\n",
        "class GaussianPolicy(nn.Module):\n",
        "    def __init__(self, state_dim, action_dim, hidden=256, log_std_min=-20, log_std_max=2):\n",
        "        super().__init__()\n",
        "        self.net = nn.Sequential(\n",
        "            nn.Linear(state_dim, hidden), nn.ReLU(),\n",
        "            nn.Linear(hidden, hidden), nn.ReLU(),\n",
        "        )\n",
        "        self.mu = nn.Linear(hidden, action_dim)\n",
        "        self.log_std = nn.Linear(hidden, action_dim)\n",
        "        self.log_std_min = log_std_min\n",
        "        self.log_std_max = log_std_max\n",
        "\n",
        "    def forward(self, state):\n",
        "        z = self.net(state)\n",
        "        mu = self.mu(z)\n",
        "        log_std = torch.clamp(self.log_std(z), self.log_std_min, self.log_std_max)\n",
        "        std = log_std.exp()\n",
        "        return mu, std\n",
        "\n",
        "    def sample(self, state):\n",
        "        mu, std = self.forward(state)\n",
        "        normal = Normal(mu, std)\n",
        "        u = normal.rsample()                 # reparameterization\n",
        "        a_tanh = torch.tanh(u)\n",
        "        action = a_tanh * action_scale + action_bias\n",
        "        # log-prob with tanh-squash + scaling correction\n",
        "        log_prob = normal.log_prob(u) - torch.log(1 - a_tanh.pow(2) + 1e-6)\n",
        "        log_prob = log_prob.sum(dim=-1, keepdim=True) - log_action_scale_sum\n",
        "        return action, log_prob, mu, std\n",
        "\n",
        "    @torch.no_grad()\n",
        "    def act_deterministic(self, state_np):\n",
        "        s = torch.tensor(state_np, dtype=torch.float32, device=device).unsqueeze(0)\n",
        "        mu, _ = self.forward(s)\n",
        "        a = torch.tanh(mu) * action_scale + action_bias\n",
        "        return a.squeeze(0).cpu().numpy()\n"
      ],
      "metadata": {
        "id": "XYn8W4AB9Ejk"
      },
      "execution_count": 10,
      "outputs": []
    },
    {
      "cell_type": "code",
      "source": [
        "class QCritic(nn.Module):\n",
        "    def __init__(self, state_dim, action_dim, hidden=256):\n",
        "        super().__init__()\n",
        "        self.q1 = mlp(state_dim + action_dim, 1, hidden)\n",
        "        self.q2 = mlp(state_dim + action_dim, 1, hidden)\n",
        "    def forward(self, s, a):\n",
        "        sa = torch.cat([s, a], dim=-1)\n",
        "        return self.q1(sa), self.q2(sa)\n"
      ],
      "metadata": {
        "id": "RjZN3nqe9Gm_"
      },
      "execution_count": 11,
      "outputs": []
    },
    {
      "cell_type": "code",
      "source": [
        "class SACAgent:\n",
        "    def __init__(self, state_dim, action_dim, gamma=0.99, tau=0.005,\n",
        "                 actor_lr=3e-4, critic_lr=3e-4, alpha_lr=3e-4,\n",
        "                 target_entropy=None):\n",
        "        self.gamma = gamma\n",
        "        self.tau = tau\n",
        "\n",
        "        self.actor = GaussianPolicy(state_dim, action_dim).to(device)\n",
        "        self.critic = QCritic(state_dim, action_dim).to(device)\n",
        "        self.critic_target = QCritic(state_dim, action_dim).to(device)\n",
        "        self.critic_target.load_state_dict(self.critic.state_dict())\n",
        "\n",
        "        self.actor_opt = optim.Adam(self.actor.parameters(), lr=actor_lr)\n",
        "        self.critic_opt = optim.Adam(self.critic.parameters(), lr=critic_lr)\n",
        "\n",
        "        # temperature alpha (entropy) — automatic tuning\n",
        "        if target_entropy is None:\n",
        "            target_entropy = -float(action_dim)\n",
        "        self.target_entropy = target_entropy\n",
        "        self.log_alpha = torch.tensor(0.0, requires_grad=True, device=device)\n",
        "        self.alpha_opt = optim.Adam([self.log_alpha], lr=alpha_lr)\n",
        "\n",
        "    @property\n",
        "    def alpha(self):\n",
        "        return self.log_alpha.exp()\n",
        "\n",
        "    def update(self, batch):\n",
        "        states, actions, rewards, next_states, dones = batch\n",
        "\n",
        "        # ----- Critic update -----\n",
        "        with torch.no_grad():\n",
        "            next_actions, next_logp, _, _ = self.actor.sample(next_states)\n",
        "            q1_t, q2_t = self.critic_target(next_states, next_actions)\n",
        "            q_target_min = torch.min(q1_t, q2_t)\n",
        "            target = rewards + self.gamma * (1.0 - dones) * (q_target_min - self.alpha * next_logp)\n",
        "\n",
        "        q1, q2 = self.critic(states, actions)\n",
        "        critic_loss = nn.MSELoss()(q1, target) + nn.MSELoss()(q2, target)\n",
        "        self.critic_opt.zero_grad(); critic_loss.backward(); self.critic_opt.step()\n",
        "\n",
        "        # ----- Actor update -----\n",
        "        new_actions, logp, _, _ = self.actor.sample(states)\n",
        "        q1_pi, q2_pi = self.critic(states, new_actions)\n",
        "        q_pi = torch.min(q1_pi, q2_pi)\n",
        "        actor_loss = (self.alpha * logp - q_pi).mean()\n",
        "        self.actor_opt.zero_grad(); actor_loss.backward(); self.actor_opt.step()\n",
        "\n",
        "        # ----- Alpha (temperature) update -----\n",
        "        alpha_loss = -(self.log_alpha * (logp + self.target_entropy).detach()).mean()\n",
        "        self.alpha_opt.zero_grad(); alpha_loss.backward(); self.alpha_opt.step()\n",
        "\n",
        "        # ----- Soft update target critics -----\n",
        "        with torch.no_grad():\n",
        "            for p_t, p in zip(self.critic_target.parameters(), self.critic.parameters()):\n",
        "                p_t.data.mul_(1 - self.tau)\n",
        "                p_t.data.add_(self.tau * p.data)\n",
        "\n",
        "        return {\n",
        "            \"critic_loss\": float(critic_loss.item()),\n",
        "            \"actor_loss\": float(actor_loss.item()),\n",
        "            \"alpha\": float(self.alpha.item()),\n",
        "        }\n",
        "\n",
        "    @torch.no_grad()\n",
        "    def act(self, state_np, eval_mode=False):\n",
        "        s = torch.tensor(state_np, dtype=torch.float32, device=device).unsqueeze(0)\n",
        "        if eval_mode:\n",
        "            return self.actor.act_deterministic(state_np)\n",
        "        a, _, _, _ = self.actor.sample(s)\n",
        "        return a.squeeze(0).cpu().numpy()\n"
      ],
      "metadata": {
        "id": "YS9s3ssZ9Jzu"
      },
      "execution_count": 12,
      "outputs": []
    },
    {
      "cell_type": "code",
      "source": [
        "buffer = ReplayBuffer(capacity=1_000_000)\n",
        "agent  = SACAgent(state_dim, action_dim)\n",
        "\n",
        "total_steps     = 150_000\n",
        "start_random    = 5_000       # langkah awal pakai aksi acak untuk eksplorasi\n",
        "update_after    = 1_000\n",
        "update_every    = 1           # berapa kali update per langkah env\n",
        "batch_size      = 256\n",
        "max_ep_steps    = 200\n",
        "log_interval    = 5000\n",
        "\n",
        "ep_returns, history = [], []\n",
        "state, info = env.reset(seed=SEED)\n",
        "ep_ret, ep_len = 0.0, 0\n",
        "\n",
        "for t in range(1, total_steps + 1):\n",
        "    if t < start_random:\n",
        "        action = env.action_space.sample()\n",
        "    else:\n",
        "        action = agent.act(state, eval_mode=False)\n",
        "\n",
        "    next_state, reward, terminated, truncated, info = env.step(action)\n",
        "    done = terminated or truncated\n",
        "    buffer.push(state, action, reward, next_state, float(done))\n",
        "\n",
        "    state = next_state\n",
        "    ep_ret += reward; ep_len += 1\n",
        "\n",
        "    # update\n",
        "    if (t >= update_after) and (len(buffer) >= batch_size):\n",
        "        for _ in range(update_every):\n",
        "            batch = buffer.sample(batch_size)\n",
        "            agent.update(batch)\n",
        "\n",
        "    if done or ep_len >= max_ep_steps:\n",
        "        history.append(ep_ret)\n",
        "        state, info = env.reset()\n",
        "        ep_ret, ep_len = 0.0, 0\n",
        "\n",
        "    if t % log_interval == 0 and len(history) >= 10:\n",
        "        print(f\"Step {t:6d} | AvgReturn(10ep): {np.mean(history[-10:]):7.2f} | Buffer: {len(buffer)}\")\n",
        "\n",
        "plt.figure(figsize=(6,4))\n",
        "plt.plot(history)\n",
        "plt.xlabel(\"Episode\"); plt.ylabel(\"Return\"); plt.title(\"SAC on Pendulum-v1\")\n",
        "plt.show()\n"
      ],
      "metadata": {
        "colab": {
          "base_uri": "https://localhost:8080/",
          "height": 931
        },
        "id": "i82cQ-WW9Lh-",
        "outputId": "5f642805-1a60-4172-d310-6394e8846867"
      },
      "execution_count": 13,
      "outputs": [
        {
          "output_type": "stream",
          "name": "stdout",
          "text": [
            "Step   5000 | AvgReturn(10ep): -1067.04 | Buffer: 5000\n",
            "Step  10000 | AvgReturn(10ep): -183.49 | Buffer: 10000\n",
            "Step  15000 | AvgReturn(10ep): -134.18 | Buffer: 15000\n",
            "Step  20000 | AvgReturn(10ep): -145.18 | Buffer: 20000\n",
            "Step  25000 | AvgReturn(10ep): -177.21 | Buffer: 25000\n",
            "Step  30000 | AvgReturn(10ep): -205.40 | Buffer: 30000\n",
            "Step  35000 | AvgReturn(10ep): -175.46 | Buffer: 35000\n",
            "Step  40000 | AvgReturn(10ep): -145.72 | Buffer: 40000\n",
            "Step  45000 | AvgReturn(10ep): -213.09 | Buffer: 45000\n",
            "Step  50000 | AvgReturn(10ep): -121.39 | Buffer: 50000\n",
            "Step  55000 | AvgReturn(10ep): -163.14 | Buffer: 55000\n",
            "Step  60000 | AvgReturn(10ep): -184.15 | Buffer: 60000\n",
            "Step  65000 | AvgReturn(10ep): -196.47 | Buffer: 65000\n",
            "Step  70000 | AvgReturn(10ep): -152.14 | Buffer: 70000\n",
            "Step  75000 | AvgReturn(10ep): -166.51 | Buffer: 75000\n",
            "Step  80000 | AvgReturn(10ep): -160.41 | Buffer: 80000\n",
            "Step  85000 | AvgReturn(10ep): -156.74 | Buffer: 85000\n",
            "Step  90000 | AvgReturn(10ep): -131.70 | Buffer: 90000\n",
            "Step  95000 | AvgReturn(10ep): -158.48 | Buffer: 95000\n",
            "Step 100000 | AvgReturn(10ep): -176.61 | Buffer: 100000\n",
            "Step 105000 | AvgReturn(10ep): -156.63 | Buffer: 105000\n",
            "Step 110000 | AvgReturn(10ep): -141.68 | Buffer: 110000\n",
            "Step 115000 | AvgReturn(10ep): -166.05 | Buffer: 115000\n",
            "Step 120000 | AvgReturn(10ep): -141.56 | Buffer: 120000\n",
            "Step 125000 | AvgReturn(10ep): -141.07 | Buffer: 125000\n",
            "Step 130000 | AvgReturn(10ep):  -99.03 | Buffer: 130000\n",
            "Step 135000 | AvgReturn(10ep): -154.60 | Buffer: 135000\n",
            "Step 140000 | AvgReturn(10ep): -161.27 | Buffer: 140000\n",
            "Step 145000 | AvgReturn(10ep): -161.95 | Buffer: 145000\n",
            "Step 150000 | AvgReturn(10ep): -170.04 | Buffer: 150000\n"
          ]
        },
        {
          "output_type": "display_data",
          "data": {
            "text/plain": [
              "<Figure size 600x400 with 1 Axes>"
            ],
            "image/png": "[encoded data removed]"
          },
          "metadata": {}
        }
      ]
    },
    {
      "cell_type": "code",
      "source": [
        "@torch.no_grad()\n",
        "def evaluate(env, agent, episodes=10):\n",
        "    scores = []\n",
        "    for ep in range(episodes):\n",
        "        s, info = env.reset(seed=SEED + 1000 + ep)\n",
        "        total = 0.0; done = False\n",
        "        while not done:\n",
        "            a = agent.act(s, eval_mode=True)\n",
        "            s, r, terminated, truncated, info = env.step(a)\n",
        "            total += r\n",
        "            done = terminated or truncated\n",
        "        scores.append(total)\n",
        "    return float(np.mean(scores)), float(np.std(scores))\n",
        "\n",
        "avg, std = evaluate(env, agent, episodes=10)\n",
        "print(f\"Eval average return (10 eps): {avg:.2f} ± {std:.2f}\")\n"
      ],
      "metadata": {
        "colab": {
          "base_uri": "https://localhost:8080/"
        },
        "id": "rdqchKDuEfkD",
        "outputId": "6c5b1384-078b-4ed2-ad72-52a61267d328"
      },
      "execution_count": 14,
      "outputs": [
        {
          "output_type": "stream",
          "name": "stdout",
          "text": [
            "Eval average return (10 eps): -142.22 ± 99.74\n"
          ]
        }
      ]
    },
    {
      "cell_type": "code",
      "source": [
        "POLICY_PATH = \"sac_pendulum_actor.pt\"\n",
        "CRITIC_PATH = \"sac_pendulum_critics.pt\"\n",
        "\n",
        "torch.save(agent.actor.state_dict(),  POLICY_PATH)\n",
        "torch.save(agent.critic.state_dict(), CRITIC_PATH)\n",
        "print(\"Model disimpan:\", POLICY_PATH, \"&&\", CRITIC_PATH)\n",
        "\n",
        "# Memuat kembali:\n",
        "# actor2 = GaussianPolicy(state_dim, action_dim).to(device)\n",
        "# actor2.load_state_dict(torch.load(POLICY_PATH, map_location=device))\n",
        "# actor2.eval()\n"
      ],
      "metadata": {
        "colab": {
          "base_uri": "https://localhost:8080/"
        },
        "id": "q2ojNjhzEijH",
        "outputId": "55c8f488-44d3-4d58-a051-6a667a8483e4"
      },
      "execution_count": 15,
      "outputs": [
        {
          "output_type": "stream",
          "name": "stdout",
          "text": [
            "Model disimpan: sac_pendulum_actor.pt && sac_pendulum_critics.pt\n"
          ]
        }
      ]
    },
    {
      "cell_type": "code",
      "source": [
        "from gymnasium.wrappers import RecordVideo\n",
        "import os, shutil, glob\n",
        "from IPython.display import HTML\n",
        "\n",
        "VID_DIR = \"sac_videos\"\n",
        "if os.path.exists(VID_DIR): shutil.rmtree(VID_DIR)\n",
        "\n",
        "venv = RecordVideo(gym.make(\"Pendulum-v1\", render_mode=\"rgb_array\"),\n",
        "                   video_folder=VID_DIR, episode_trigger=lambda e: True)\n",
        "\n",
        "s, info = venv.reset(seed=SEED + 2024)\n",
        "done = False\n",
        "while not done:\n",
        "    a = agent.act(s, eval_mode=True)\n",
        "    s, r, terminated, truncated, info = venv.step(a)\n",
        "    done = terminated or truncated\n",
        "venv.close()\n",
        "\n",
        "mp4s = sorted(glob.glob(f\"{VID_DIR}/*.mp4\"))\n",
        "print(\"Video:\", mp4s[-1] if mp4s else \"tidak ditemukan\")\n",
        "if mp4s:\n",
        "    HTML(f\"\"\"\n",
        "    <video width=\"480\" controls>\n",
        "        <source src=\"{mp4s[-1]}\" type=\"video/mp4\">\n",
        "    </video>\n",
        "    \"\"\")\n"
      ],
      "metadata": {
        "colab": {
          "base_uri": "https://localhost:8080/"
        },
        "id": "6SR4xlPpEkXX",
        "outputId": "83fe35a0-2a4f-4e8d-baf7-a0df9c18e95a"
      },
      "execution_count": 16,
      "outputs": [
        {
          "output_type": "stream",
          "name": "stdout",
          "text": [
            "Video: sac_videos/rl-video-episode-0.mp4\n"
          ]
        }
      ]
    }
  ]
}