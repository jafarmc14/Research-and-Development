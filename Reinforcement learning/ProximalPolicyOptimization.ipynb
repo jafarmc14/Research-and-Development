{
  "nbformat": 4,
  "nbformat_minor": 0,
  "metadata": {
    "colab": {
      "provenance": [],
      "gpuType": "T4"
    },
    "kernelspec": {
      "name": "python3",
      "display_name": "Python 3"
    },
    "language_info": {
      "name": "python"
    },
    "accelerator": "GPU"
  },
  "cells": [
    {
      "cell_type": "code",
      "execution_count": 1,
      "metadata": {
        "colab": {
          "base_uri": "https://localhost:8080/"
        },
        "id": "TMwH2QzK3XuZ",
        "outputId": "04a9cc08-05d1-4485-e4c5-63fee7133b9f"
      },
      "outputs": [
        {
          "output_type": "stream",
          "name": "stdout",
          "text": [
            "\u001b[2K   \u001b[90m━━━━━━━━━━━━━━━━━━━━━━━━━━━━━━━━━━━━━━━━\u001b[0m \u001b[32m363.4/363.4 MB\u001b[0m \u001b[31m3.9 MB/s\u001b[0m eta \u001b[36m0:00:00\u001b[0m\n",
            "\u001b[2K   \u001b[90m━━━━━━━━━━━━━━━━━━━━━━━━━━━━━━━━━━━━━━━━\u001b[0m \u001b[32m13.8/13.8 MB\u001b[0m \u001b[31m70.1 MB/s\u001b[0m eta \u001b[36m0:00:00\u001b[0m\n",
            "\u001b[2K   \u001b[90m━━━━━━━━━━━━━━━━━━━━━━━━━━━━━━━━━━━━━━━━\u001b[0m \u001b[32m24.6/24.6 MB\u001b[0m \u001b[31m37.0 MB/s\u001b[0m eta \u001b[36m0:00:00\u001b[0m\n",
            "\u001b[2K   \u001b[90m━━━━━━━━━━━━━━━━━━━━━━━━━━━━━━━━━━━━━━━━\u001b[0m \u001b[32m883.7/883.7 kB\u001b[0m \u001b[31m45.1 MB/s\u001b[0m eta \u001b[36m0:00:00\u001b[0m\n",
            "\u001b[2K   \u001b[90m━━━━━━━━━━━━━━━━━━━━━━━━━━━━━━━━━━━━━━━━\u001b[0m \u001b[32m664.8/664.8 MB\u001b[0m \u001b[31m2.4 MB/s\u001b[0m eta \u001b[36m0:00:00\u001b[0m\n",
            "\u001b[2K   \u001b[90m━━━━━━━━━━━━━━━━━━━━━━━━━━━━━━━━━━━━━━━━\u001b[0m \u001b[32m211.5/211.5 MB\u001b[0m \u001b[31m5.4 MB/s\u001b[0m eta \u001b[36m0:00:00\u001b[0m\n",
            "\u001b[2K   \u001b[90m━━━━━━━━━━━━━━━━━━━━━━━━━━━━━━━━━━━━━━━━\u001b[0m \u001b[32m56.3/56.3 MB\u001b[0m \u001b[31m13.3 MB/s\u001b[0m eta \u001b[36m0:00:00\u001b[0m\n",
            "\u001b[2K   \u001b[90m━━━━━━━━━━━━━━━━━━━━━━━━━━━━━━━━━━━━━━━━\u001b[0m \u001b[32m127.9/127.9 MB\u001b[0m \u001b[31m7.3 MB/s\u001b[0m eta \u001b[36m0:00:00\u001b[0m\n",
            "\u001b[2K   \u001b[90m━━━━━━━━━━━━━━━━━━━━━━━━━━━━━━━━━━━━━━━━\u001b[0m \u001b[32m207.5/207.5 MB\u001b[0m \u001b[31m5.5 MB/s\u001b[0m eta \u001b[36m0:00:00\u001b[0m\n",
            "\u001b[2K   \u001b[90m━━━━━━━━━━━━━━━━━━━━━━━━━━━━━━━━━━━━━━━━\u001b[0m \u001b[32m188.7/188.7 MB\u001b[0m \u001b[31m5.7 MB/s\u001b[0m eta \u001b[36m0:00:00\u001b[0m\n",
            "\u001b[2K   \u001b[90m━━━━━━━━━━━━━━━━━━━━━━━━━━━━━━━━━━━━━━━━\u001b[0m \u001b[32m21.1/21.1 MB\u001b[0m \u001b[31m105.7 MB/s\u001b[0m eta \u001b[36m0:00:00\u001b[0m\n",
            "\u001b[?25h"
          ]
        }
      ],
      "source": [
        "!pip install -q gymnasium[classic-control] torch numpy matplotlib\n"
      ]
    },
    {
      "cell_type": "code",
      "source": [
        "import math, random, time\n",
        "from collections import deque\n",
        "import numpy as np\n",
        "import gymnasium as gym\n",
        "import torch\n",
        "import torch.nn as nn\n",
        "import torch.optim as optim\n",
        "from torch.distributions import Categorical\n",
        "import matplotlib.pyplot as plt\n",
        "\n",
        "SEED = 42\n",
        "random.seed(SEED); np.random.seed(SEED); torch.manual_seed(SEED)\n",
        "device = torch.device(\"cuda\" if torch.cuda.is_available() else \"cpu\")\n",
        "print(\"Device:\", device)\n"
      ],
      "metadata": {
        "colab": {
          "base_uri": "https://localhost:8080/"
        },
        "id": "dy55BHGI4Uiu",
        "outputId": "725c9d7b-d290-4812-a587-0e2794f3cc0a"
      },
      "execution_count": 2,
      "outputs": [
        {
          "output_type": "stream",
          "name": "stdout",
          "text": [
            "Device: cuda\n"
          ]
        }
      ]
    },
    {
      "cell_type": "code",
      "source": [
        "class ActorCritic(nn.Module):\n",
        "    def __init__(self, state_dim, action_dim, hidden=128):\n",
        "        super().__init__()\n",
        "        self.trunk = nn.Sequential(\n",
        "            nn.Linear(state_dim, hidden), nn.Tanh(),\n",
        "            nn.Linear(hidden, hidden), nn.Tanh(),\n",
        "        )\n",
        "        self.actor = nn.Linear(hidden, action_dim)\n",
        "        self.critic = nn.Linear(hidden, 1)\n",
        "    def forward(self, x):\n",
        "        z = self.trunk(x)\n",
        "        logits = self.actor(z)\n",
        "        value = self.critic(z).squeeze(-1)\n",
        "        return logits, value\n",
        "    @torch.no_grad()\n",
        "    def act(self, state):\n",
        "        if not torch.is_tensor(state):\n",
        "            state = torch.tensor(state, dtype=torch.float32, device=device)\n",
        "        state = state.unsqueeze(0) if state.ndim == 1 else state\n",
        "        logits, value = self.forward(state)\n",
        "        dist = Categorical(logits=logits)\n",
        "        action = dist.sample()\n",
        "        logprob = dist.log_prob(action)\n",
        "        return int(action.item()), float(logprob.item()), float(value.item())\n"
      ],
      "metadata": {
        "id": "n3dBsrMY4XY6"
      },
      "execution_count": 3,
      "outputs": []
    },
    {
      "cell_type": "code",
      "source": [
        "class RolloutBuffer:\n",
        "    def __init__(self):\n",
        "        self.states = []; self.actions = []; self.logprobs = []\n",
        "        self.rewards = []; self.dones = []; self.values = []\n",
        "    def add(self, state, action, logprob, reward, done, value):\n",
        "        self.states.append(state); self.actions.append(action)\n",
        "        self.logprobs.append(logprob); self.rewards.append(reward)\n",
        "        self.dones.append(done); self.values.append(value)\n",
        "    def clear(self):\n",
        "        self.__init__()\n"
      ],
      "metadata": {
        "id": "kKGE-xnl4ZLe"
      },
      "execution_count": 4,
      "outputs": []
    },
    {
      "cell_type": "code",
      "source": [
        "def compute_gae(rewards, dones, values, last_value, gamma=0.99, lam=0.95):\n",
        "    T = len(rewards)\n",
        "    adv = np.zeros(T, dtype=np.float32)\n",
        "    lastgaelam = 0.0\n",
        "    for t in reversed(range(T)):\n",
        "        nonterminal = 1.0 - dones[t]\n",
        "        next_value = last_value if t == T - 1 else values[t+1]\n",
        "        delta = rewards[t] + gamma * next_value * nonterminal - values[t]\n",
        "        lastgaelam = delta + gamma * lam * nonterminal * lastgaelam\n",
        "        adv[t] = lastgaelam\n",
        "    returns = adv + np.array(values, dtype=np.float32)\n",
        "    return adv, returns\n"
      ],
      "metadata": {
        "id": "P1_oJ2Si4bHi"
      },
      "execution_count": 5,
      "outputs": []
    },
    {
      "cell_type": "code",
      "source": [
        "def ppo_update(model, optimizer, batch_states, batch_actions, batch_logprobs_old,\n",
        "               batch_returns, batch_advs, clip_ratio=0.2, vf_coef=0.5,\n",
        "               ent_coef=0.01, epochs=10, minibatch_size=64):\n",
        "    model.train()\n",
        "    N = batch_states.size(0)\n",
        "    idxs = np.arange(N)\n",
        "    for _ in range(epochs):\n",
        "        np.random.shuffle(idxs)\n",
        "        for start in range(0, N, minibatch_size):\n",
        "            mb = idxs[start:start+minibatch_size]\n",
        "            states = batch_states[mb]; actions = batch_actions[mb]\n",
        "            logprobs_old = batch_logprobs_old[mb]\n",
        "            returns = batch_returns[mb]; advs = batch_advs[mb]\n",
        "\n",
        "            # normalize advantages\n",
        "            advs = (advs - advs.mean()) / (advs.std() + 1e-8)\n",
        "\n",
        "            logits, values = model(states)\n",
        "            dist = Categorical(logits=logits)\n",
        "            logprobs = dist.log_prob(actions)\n",
        "            entropy = dist.entropy().mean()\n",
        "\n",
        "            ratio = torch.exp(logprobs - logprobs_old)\n",
        "            surr1 = ratio * advs\n",
        "            surr2 = torch.clamp(ratio, 1.0 - clip_ratio, 1.0 + clip_ratio) * advs\n",
        "            policy_loss = -torch.min(surr1, surr2).mean()\n",
        "\n",
        "            value_loss = nn.MSELoss()(values, returns)\n",
        "            loss = policy_loss + vf_coef * value_loss - ent_coef * entropy\n",
        "\n",
        "            optimizer.zero_grad()\n",
        "            loss.backward()\n",
        "            nn.utils.clip_grad_norm_(model.parameters(), 0.5)\n",
        "            optimizer.step()\n"
      ],
      "metadata": {
        "id": "PpOnRpOJ4cpg"
      },
      "execution_count": 6,
      "outputs": []
    },
    {
      "cell_type": "code",
      "source": [
        "env = gym.make(\"CartPole-v1\")\n",
        "state_dim = env.observation_space.shape[0]\n",
        "action_dim = env.action_space.n\n",
        "\n",
        "model = ActorCritic(state_dim, action_dim).to(device)\n",
        "optimizer = optim.Adam(model.parameters(), lr=3e-4)\n",
        "\n",
        "total_timesteps = 120_000\n",
        "rollout_steps   = 2048\n",
        "gamma = 0.99\n",
        "gae_lambda = 0.95\n",
        "clip_ratio = 0.2\n",
        "vf_coef = 0.5\n",
        "ent_coef = 0.01\n",
        "update_epochs = 10\n",
        "minibatch_size = 64\n",
        "\n",
        "ep_rewards, reward_history = [], []\n",
        "state, info = env.reset(seed=SEED)\n",
        "buffer = RolloutBuffer()\n",
        "timestep = 0\n",
        "\n",
        "while timestep < total_timesteps:\n",
        "    buffer.clear()\n",
        "    steps = 0\n",
        "    while steps < rollout_steps:\n",
        "        action, logp, value = model.act(state)\n",
        "        next_state, reward, terminated, truncated, info = env.step(action)\n",
        "        done = terminated or truncated\n",
        "\n",
        "        buffer.add(state, action, logp, reward, float(done), value)\n",
        "        state = next_state; steps += 1; timestep += 1\n",
        "\n",
        "        if len(ep_rewards) == 0: ep_rewards.append(0.0)\n",
        "        ep_rewards[-1] += reward\n",
        "        if done:\n",
        "            reward_history.append(ep_rewards[-1])\n",
        "            ep_rewards.append(0.0)\n",
        "            state, info = env.reset()\n",
        "\n",
        "    with torch.no_grad():\n",
        "        s_t = torch.tensor(state, dtype=torch.float32, device=device).unsqueeze(0)\n",
        "        _, last_val = model(s_t)\n",
        "\n",
        "    adv, returns = compute_gae(buffer.rewards, buffer.dones, buffer.values,\n",
        "                               float(last_val.item()), gamma=gamma, lam=gae_lambda)\n",
        "\n",
        "    batch_states = torch.tensor(np.array(buffer.states), dtype=torch.float32, device=device)\n",
        "    batch_actions = torch.tensor(np.array(buffer.actions), dtype=torch.int64, device=device)\n",
        "    batch_logprobs_old = torch.tensor(np.array(buffer.logprobs), dtype=torch.float32, device=device)\n",
        "    batch_advs = torch.tensor(adv, dtype=torch.float32, device=device)\n",
        "    batch_returns = torch.tensor(returns, dtype=torch.float32, device=device)\n",
        "\n",
        "    ppo_update(model, optimizer, batch_states, batch_actions, batch_logprobs_old,\n",
        "               batch_returns, batch_advs, clip_ratio, vf_coef, ent_coef,\n",
        "               epochs=update_epochs, minibatch_size=minibatch_size)\n",
        "\n",
        "    if len(reward_history) >= 10:\n",
        "        avg10 = np.mean(reward_history[-10:])\n",
        "        print(f\"Steps: {timestep:6d} | AvgReward(10ep): {avg10:7.2f}\")\n",
        "\n",
        "plt.figure(figsize=(6,4))\n",
        "plt.plot(reward_history)\n",
        "plt.xlabel(\"Episode\"); plt.ylabel(\"Total Reward\"); plt.title(\"PPO on CartPole-v1\")\n",
        "plt.show()\n"
      ],
      "metadata": {
        "colab": {
          "base_uri": "https://localhost:8080/",
          "height": 1000
        },
        "id": "j2XrRROM4ebA",
        "outputId": "f7c6f50f-2653-4717-cdc8-e4ebecc5892f"
      },
      "execution_count": 7,
      "outputs": [
        {
          "output_type": "stream",
          "name": "stdout",
          "text": [
            "Steps:   2048 | AvgReward(10ep):   19.50\n",
            "Steps:   4096 | AvgReward(10ep):   24.10\n",
            "Steps:   6144 | AvgReward(10ep):   57.40\n",
            "Steps:   8192 | AvgReward(10ep):   60.70\n",
            "Steps:  10240 | AvgReward(10ep):   88.20\n",
            "Steps:  12288 | AvgReward(10ep):  118.10\n",
            "Steps:  14336 | AvgReward(10ep):  192.10\n",
            "Steps:  16384 | AvgReward(10ep):   31.40\n",
            "Steps:  18432 | AvgReward(10ep):  198.80\n",
            "Steps:  20480 | AvgReward(10ep):   54.60\n",
            "Steps:  22528 | AvgReward(10ep):  118.00\n",
            "Steps:  24576 | AvgReward(10ep):  121.30\n",
            "Steps:  26624 | AvgReward(10ep):  127.60\n",
            "Steps:  28672 | AvgReward(10ep):  152.80\n",
            "Steps:  30720 | AvgReward(10ep):  124.50\n",
            "Steps:  32768 | AvgReward(10ep):  108.40\n",
            "Steps:  34816 | AvgReward(10ep):  151.70\n",
            "Steps:  36864 | AvgReward(10ep):   89.20\n",
            "Steps:  38912 | AvgReward(10ep):  169.10\n",
            "Steps:  40960 | AvgReward(10ep):  165.10\n",
            "Steps:  43008 | AvgReward(10ep):  269.20\n",
            "Steps:  45056 | AvgReward(10ep):   91.00\n",
            "Steps:  47104 | AvgReward(10ep):  242.60\n",
            "Steps:  49152 | AvgReward(10ep):   83.60\n",
            "Steps:  51200 | AvgReward(10ep):  129.50\n",
            "Steps:  53248 | AvgReward(10ep):  219.10\n",
            "Steps:  55296 | AvgReward(10ep):  244.20\n",
            "Steps:  57344 | AvgReward(10ep):  190.10\n",
            "Steps:  59392 | AvgReward(10ep):  127.50\n",
            "Steps:  61440 | AvgReward(10ep):  194.40\n",
            "Steps:  63488 | AvgReward(10ep):  341.00\n",
            "Steps:  65536 | AvgReward(10ep):  346.20\n",
            "Steps:  67584 | AvgReward(10ep):   88.10\n",
            "Steps:  69632 | AvgReward(10ep):  246.60\n",
            "Steps:  71680 | AvgReward(10ep):  263.50\n",
            "Steps:  73728 | AvgReward(10ep):  292.00\n",
            "Steps:  75776 | AvgReward(10ep):  209.30\n",
            "Steps:  77824 | AvgReward(10ep):  292.30\n",
            "Steps:  79872 | AvgReward(10ep):  387.80\n",
            "Steps:  81920 | AvgReward(10ep):  263.60\n",
            "Steps:  83968 | AvgReward(10ep):  302.50\n",
            "Steps:  86016 | AvgReward(10ep):  185.40\n",
            "Steps:  88064 | AvgReward(10ep):  311.50\n",
            "Steps:  90112 | AvgReward(10ep):   29.30\n",
            "Steps:  92160 | AvgReward(10ep):  167.50\n",
            "Steps:  94208 | AvgReward(10ep):  250.60\n",
            "Steps:  96256 | AvgReward(10ep):  260.00\n",
            "Steps:  98304 | AvgReward(10ep):  279.20\n",
            "Steps: 100352 | AvgReward(10ep):  296.00\n",
            "Steps: 102400 | AvgReward(10ep):  141.10\n",
            "Steps: 104448 | AvgReward(10ep):  255.20\n",
            "Steps: 106496 | AvgReward(10ep):  238.00\n",
            "Steps: 108544 | AvgReward(10ep):  191.70\n",
            "Steps: 110592 | AvgReward(10ep):  272.70\n",
            "Steps: 112640 | AvgReward(10ep):  337.00\n",
            "Steps: 114688 | AvgReward(10ep):  346.10\n",
            "Steps: 116736 | AvgReward(10ep):  129.50\n",
            "Steps: 118784 | AvgReward(10ep):  253.50\n",
            "Steps: 120832 | AvgReward(10ep):  434.60\n"
          ]
        },
        {
          "output_type": "display_data",
          "data": {
            "text/plain": [
              "<Figure size 600x400 with 1 Axes>"
            ],
            "image/png": "[encoded data removed]"
          },
          "metadata": {}
        }
      ]
    },
    {
      "cell_type": "code",
      "source": [
        "@torch.no_grad()\n",
        "def evaluate(env, model, episodes=10):\n",
        "    scores = []\n",
        "    for ep in range(episodes):\n",
        "        s, info = env.reset(seed=SEED + 1000 + ep)\n",
        "        total = 0.0; done = False\n",
        "        while not done:\n",
        "            x = torch.tensor(s, dtype=torch.float32, device=device).unsqueeze(0)\n",
        "            logits, _ = model(x)\n",
        "            a = int(torch.argmax(logits, dim=1).item())\n",
        "            s, r, terminated, truncated, info = env.step(a)\n",
        "            total += r\n",
        "            done = terminated or truncated\n",
        "        scores.append(total)\n",
        "    return float(np.mean(scores)), float(np.std(scores))\n",
        "\n",
        "avg, std = evaluate(env, model, episodes=10)\n",
        "print(f\"Eval average reward (10 eps): {avg:.2f} ± {std:.2f}\")\n"
      ],
      "metadata": {
        "colab": {
          "base_uri": "https://localhost:8080/"
        },
        "id": "IsAcmZOY5XFJ",
        "outputId": "4f92f7b8-c91e-4251-c44f-494d27edee81"
      },
      "execution_count": 8,
      "outputs": [
        {
          "output_type": "stream",
          "name": "stdout",
          "text": [
            "Eval average reward (10 eps): 469.70 ± 90.90\n"
          ]
        }
      ]
    },
    {
      "cell_type": "code",
      "source": [
        "POLICY_PATH = \"ppo_cartpole_actorcritic.pt\"\n",
        "torch.save(model.state_dict(), POLICY_PATH)\n",
        "print(\"Model disimpan:\", POLICY_PATH)\n",
        "\n",
        "# Memuat kembali:\n",
        "# model2 = ActorCritic(state_dim, action_dim).to(device)\n",
        "# model2.load_state_dict(torch.load(POLICY_PATH, map_location=device))\n",
        "# model2.eval()\n"
      ],
      "metadata": {
        "colab": {
          "base_uri": "https://localhost:8080/"
        },
        "id": "AsZMNP4v5aqb",
        "outputId": "8e694831-dfa0-4732-f5d7-ea100cf47e33"
      },
      "execution_count": 9,
      "outputs": [
        {
          "output_type": "stream",
          "name": "stdout",
          "text": [
            "Model disimpan: ppo_cartpole_actorcritic.pt\n"
          ]
        }
      ]
    },
    {
      "cell_type": "code",
      "source": [
        "from gymnasium.wrappers import RecordVideo\n",
        "import os, shutil, glob\n",
        "from IPython.display import HTML\n",
        "\n",
        "if os.path.exists(\"ppo_videos\"):\n",
        "    shutil.rmtree(\"ppo_videos\")\n",
        "\n",
        "venv = RecordVideo(gym.make(\"CartPole-v1\", render_mode=\"rgb_array\"),\n",
        "                   video_folder=\"ppo_videos\", episode_trigger=lambda e: True)\n",
        "\n",
        "s, info = venv.reset(seed=SEED + 2024)\n",
        "done = False\n",
        "while not done:\n",
        "    x = torch.tensor(s, dtype=torch.float32, device=device).unsqueeze(0)\n",
        "    logits, _ = model(x)\n",
        "    a = int(torch.argmax(logits, dim=1).item())\n",
        "    s, r, terminated, truncated, info = venv.step(a)\n",
        "    done = terminated or truncated\n",
        "venv.close()\n",
        "\n",
        "mp4s = sorted(glob.glob(\"ppo_videos/*.mp4\"))\n",
        "print(\"Video:\", mp4s[-1] if mp4s else \"tidak ditemukan\")\n",
        "if mp4s:\n",
        "    HTML(f\"\"\"\n",
        "    <video width=\"480\" controls>\n",
        "        <source src=\"{mp4s[-1]}\" type=\"video/mp4\">\n",
        "    </video>\n",
        "    \"\"\")\n"
      ],
      "metadata": {
        "colab": {
          "base_uri": "https://localhost:8080/"
        },
        "id": "17Co7cET5coZ",
        "outputId": "a1bd2ea1-269e-4904-b62a-a7c573a8178c"
      },
      "execution_count": 10,
      "outputs": [
        {
          "output_type": "stream",
          "name": "stdout",
          "text": [
            "Video: ppo_videos/rl-video-episode-0.mp4\n"
          ]
        }
      ]
    }
  ]
}